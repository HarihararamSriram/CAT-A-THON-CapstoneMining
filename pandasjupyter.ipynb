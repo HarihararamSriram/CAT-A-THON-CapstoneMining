{
 "cells": [
  {
   "cell_type": "code",
   "execution_count": 1,
   "source": [
    "import pandas as pd\r\n",
    "df = pd.read_excel(r'D:\\Hari Sriram\\~Coding~\\NLP\\CAT_Training_Dataset_V3 File.xlsx')\r\n",
    "\r\n",
    "df_interested = df[df[\"event\"]==\"Component2_discreteSensorH_Up\"].copy() #It contains the event Component2_discreteSensorH_Up\r\n",
    "# Clear errors and then we need to sort it according to the chronological order (date column)\r\n",
    "df_interested.drop(columns=[\"ID\",], inplace=True)\r\n",
    "#print(df_interested)\r\n",
    "df_interested.drop_duplicates(inplace=True)\r\n",
    "df_interested = df_interested[df_interested.date.apply(lambda x: str(x).isnumeric())].copy().set_index('date')\r\n",
    "#print(df_interested)\r\n",
    "df_interested = df_interested[df_interested.occur_count.apply(lambda x: int(x)>0)].copy()\r\n",
    "print(df_interested)"
   ],
   "outputs": [
    {
     "output_type": "stream",
     "name": "stdout",
     "text": [
      "        candidate    units                          event  occur_count  \\\n",
      "date                                                                     \n",
      "34504  ABCDE00001     43.0  Component2_discreteSensorH_Up            1   \n",
      "34506  ABCDE00001     65.0  Component2_discreteSensorH_Up            1   \n",
      "34510  ABCDE00001    108.0  Component2_discreteSensorH_Up            1   \n",
      "34514  ABCDE00001    151.0  Component2_discreteSensorH_Up            3   \n",
      "34518  ABCDE00001    194.0  Component2_discreteSensorH_Up            3   \n",
      "...           ...      ...                            ...          ...   \n",
      "26402  ABCDE00642   5793.0  Component2_discreteSensorH_Up            2   \n",
      "28152  ABCDE00642  10042.0  Component2_discreteSensorH_Up            1   \n",
      "28448  ABCDE00642  10787.0  Component2_discreteSensorH_Up            1   \n",
      "28462  ABCDE00642  10797.0  Component2_discreteSensorH_Up            1   \n",
      "28592  ABCDE00642  11594.0  Component2_discreteSensorH_Up            3   \n",
      "\n",
      "       svrty_level  \n",
      "date                \n",
      "34504            2  \n",
      "34506            2  \n",
      "34510            2  \n",
      "34514            2  \n",
      "34518            2  \n",
      "...            ...  \n",
      "26402            2  \n",
      "28152            2  \n",
      "28448            2  \n",
      "28462            2  \n",
      "28592            2  \n",
      "\n",
      "[15345 rows x 5 columns]\n"
     ]
    }
   ],
   "metadata": {}
  },
  {
   "cell_type": "code",
   "execution_count": null,
   "source": [],
   "outputs": [],
   "metadata": {}
  },
  {
   "cell_type": "code",
   "execution_count": 11,
   "source": [
    "import numpy as np\r\n",
    "import matplotlib.pyplot as plt\r\n",
    "import pandas as pd\r\n",
    "\r\n",
    "# Importing the dataset\r\n",
    "dataset = pd.read_csv('https://s3.us-west-2.amazonaws.com/public.gamelab.fun/dataset/position_salaries.csv')\r\n",
    "X = dataset.iloc[:, 1:2].values\r\n",
    "y = dataset.iloc[:, 2].values\r\n",
    "print(np.shape(X))\r\n",
    "print(np.shape(y))\r\n",
    "print(X)"
   ],
   "outputs": [
    {
     "output_type": "stream",
     "name": "stdout",
     "text": [
      "(10, 1)\n",
      "(10,)\n",
      "[[ 1]\n",
      " [ 2]\n",
      " [ 3]\n",
      " [ 4]\n",
      " [ 5]\n",
      " [ 6]\n",
      " [ 7]\n",
      " [ 8]\n",
      " [ 9]\n",
      " [10]]\n"
     ]
    }
   ],
   "metadata": {}
  },
  {
   "cell_type": "code",
   "execution_count": 15,
   "source": [
    "import numpy as np\r\n",
    "b = np.array([10,11,23])\r\n",
    "c = list()\r\n",
    "for i in b:\r\n",
    "    temp = np.array([i,])\r\n",
    "    c.append(temp)\r\n",
    "c = np.array(c)\r\n",
    "print(c)\r\n",
    "print(np.shape(b))"
   ],
   "outputs": [
    {
     "output_type": "stream",
     "name": "stdout",
     "text": [
      "[[10]\n",
      " [11]\n",
      " [23]]\n",
      "(3,)\n"
     ]
    }
   ],
   "metadata": {}
  },
  {
   "cell_type": "code",
   "execution_count": null,
   "source": [
    "for i in range(0):\r\n",
    "    print(\"Hello\")"
   ],
   "outputs": [],
   "metadata": {}
  }
 ],
 "metadata": {
  "orig_nbformat": 4,
  "language_info": {
   "name": "python",
   "version": "3.9.4",
   "mimetype": "text/x-python",
   "codemirror_mode": {
    "name": "ipython",
    "version": 3
   },
   "pygments_lexer": "ipython3",
   "nbconvert_exporter": "python",
   "file_extension": ".py"
  },
  "kernelspec": {
   "name": "python3",
   "display_name": "Python 3.9.4 64-bit ('env1': virtualenvwrapper)"
  },
  "interpreter": {
   "hash": "054d9b99c31e2ada25904d53f331afe7f8dc356a0bc78608646a47175eb065b3"
  }
 },
 "nbformat": 4,
 "nbformat_minor": 2
}